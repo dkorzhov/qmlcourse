{
 "cells": [
  {
   "cell_type": "markdown",
   "id": "a615d0ab",
   "metadata": {},
   "source": [
    "(hybridsvm)=\n",
    "\n",
    "# Квантово-классический SVM\n",
    "\n",
    "## Описание лекции\n",
    "\n",
    "Лекция будет построена следующим образом:\n",
    "\n",
    "- Вспомним, что такое классический SVM\n",
    "- Поговорим о классическом _kernel trick_\n",
    "- Посмотрим, как можно использовать **VQC** как ядра SVM\n",
    "- Напишем и применим код обучения смешанного SVM\n",
    "\n",
    "## Классический SVM\n",
    "\n",
    "В данной лекции мы будем много говорить об **SVM** (_Support Vector Machine_) -- алгоритме классического машинного обучения, в основе которого лежит построение оптимальной разделяющей гиперплоскости. Для детального понимания работы этого алгоритма настоятельно рекомендуется вернуться к вводной лекции про SVM.\n",
    "\n",
    "Давайте кратко вспомним, как устроен этот алгоритм.\n",
    "\n",
    "```{figure} /_static/qsvmblock/hybridsvm/Support_vector_machine.jpg\n",
    ":width: 450px\n",
    ":name: ClassicalSVM\n",
    "\n",
    "Классический SVM\n",
    "```\n",
    "\n",
    "В данном случае алгоритм пытается найти такую разделяющую прямую (в многомерном случае это будет гиперплоскость), чтобы расстояния от этой прямой до точек разных классов были максимальными.\n",
    "\n",
    "Поскольку обычно нам интересны многомерные пространства, то точки там превращаются в вектора. Также оказывается, что построение такой разделяющей плоскости зависит не от всех точек (векторов), а только от какого-то их подмножества -- опорных векторов. Именно поэтому метод и носит название _Support Vector Machine_.\n",
    "\n",
    "```{note}\n",
    "Одним из ключевых авторов алгоритма SVM является Владимир Вапник -- советский и американский (с 1991-го года) ученый, который также сделал огромный вклад в теорию классического машинного обучения. Его имя носит один из ключевых теоретических концептов машинного обучения -- размерность Вапника-Червоненкиса.\n",
    "```\n",
    "\n",
    "### Сильные стороны SVM\n",
    "\n",
    "У этого алгоритма есть несколько очень сильных сторон, если сравнивать его, например, с алгоритмом логистической регрессии:\n",
    "\n",
    "- В реальности нам интересны не все точки, а лишь те, которые лежат вблизи разделяющей гиперплоскости\n",
    "- Задача поиска такой прямой может быть сформулирована как задача квадратичного программирования\n",
    "- Решение задачи квадратичного программирования может быть получено аналитически\n",
    "- Решение может быть сформулировано с использованием лишь скалярных произведений векторов\n",
    "\n",
    "## Kernel-trick\n",
    "\n",
    "Наиболее интересным для нас будет последнее из списка. Ведь в данном случае мы можем искать оптимальные разделяющие гиперплоскости даже в пространстве бесконечной размерности -- главное, чтобы в этом пространстве было определено скалярное произведение.\n",
    "\n",
    "Это используется в расширении SVM, которое называется **ядерный** SVM. В данном случае мы используем **ядро** для вычисления скалярного произведение и строим разделяющую гиперплоскость не в исходном пространстве, где данные, вообще говоря, могут быть неразделимыми, а в новом пространстве. Для этого нам необходимо лишь иметь выражение для скалярного произведения, которое и называется **ядром**. Хорошие примеры ядер для SVM:\n",
    "\n",
    "- Полиномиальное ядро\n",
    "- Радиально-базисная функция (_Radial basis function_)\n",
    "\n",
    "```{figure} /_static/qsvmblock/hybridsvm/Kernel_trick_idea.svg.png\n",
    ":width: 600px\n",
    ":name: KernelTrick\n",
    "\n",
    "Пример разделимости в новом пространстве\n",
    "```\n",
    "\n",
    "Давайте посмотрим на то, как выглядят популярные ядра.\n",
    "\n",
    "### Полиномиальное ядро\n",
    "\n",
    "Для степени ядра $d$ и параметра нормализации $c$ скалярное произведение двух векторов $x, y$ определяется так:\n",
    "\n",
    "$$\n",
    "K(x, y) = (x^Ty + c)^d\n",
    "$$\n",
    "\n",
    "### RBF\n",
    "\n",
    "Для параметра ядра $\\sigma$ формула для скалярного произведения такая:\n",
    "\n",
    "$$\n",
    "K(x, y) = e^{-\\frac{||x - y||^2}{\\sigma}}\n",
    "$$\n",
    "\n",
    "### Проблемы с ядрами\n",
    "\n",
    "Несмотря на огромный потенциал, у ядерного SVM есть большая проблема -- масштабируемость. Вычислять ядра иногда может быть проблематично, из-за этого на действительно больших данных на первое место в последние годы вышли нейронные сети.\n",
    "\n",
    "А теперь давайте посмотрим, что квантовые компьютеры могут дать классическому SVM!\n",
    "\n",
    "## VQC как ядерная функция\n",
    "\n",
    "Как мы много говорили в более ранних лекциях, квантовые схемы позволяют нам оперировать в гильбертовых пространствах волновых функций. Эти пространства имеют экспоненциально большую размерность, при этом они параметризуются линейным количеством параметров. А еще в этих пространствах определены скалярные произведения волновых функций, более того, именно результат выборки из скалярного произведения мы чаще всего и получаем как результат измерений!\n",
    "\n",
    "Давайте попробуем посмотреть, что общего у **VQC** и ядер.\n",
    "\n",
    "- Оба оперируют в пространстве большой (или бесконечной размерности)\n",
    "- И там, и там работа идет в гильбертовом пространстве и определено скалярное произведение\n",
    "- И там, и там результат вычисляется как скалярное произведение\n",
    "\n",
    "```{note}\n",
    "Это интересно, что многие специалисты в области **QML** сегодня даже предлагают вместо термина \"квантовая нейросеть\" использовать термин \"квантовое ядро\", так как математически **VQC** гораздо ближе именно к ядрам, чем к слоям современных глубоких сетей. Этой теме у нас даже посвящена одна из более ранних лекций продвинутого уровня, где разбираются доводы из статьи {cite}`vqcaskernels`.\n",
    "```\n",
    "\n",
    "Очевидная идея -- попробовать как-то воспользоваться квантовой схемой, чтобы реализовать скалярное произведение двух классических векторов. Именно это и сделали авторы работы {cite}`qsvmidea`.\n",
    "\n",
    "### Преобразование состояния\n",
    "\n",
    "На самом деле, если просто использовать какие-то простые квантовые операции, мы не получим какого-то преимущества над классическим ядерным SVM -- ведь все то же самое можно будет сделать и на классическом компьютере.\n",
    "\n",
    "Чтобы получить реальное преимущество, нам необходимо использовать запутывание и прочие \"фишки\" квантовых вычислений.\n",
    "\n",
    "Дальше мы не станем изобретать велосипеды, а вместо этого воспользуемся примерами хороших преобразований из работы {cite}`qsvmmap`. Рассмотрим, что именно там описано.\n",
    "\n",
    "#### Общая схема\n",
    "\n",
    "Для простоты формул мы не будем выписывать обобщенные формулы, а все будем писать для нашего двумерного пространства. Тогда наша схема может быть разделена на несколько частей:\n",
    "\n",
    "- гейты Адамара и гейты $CNOT$\n",
    "- операции, основанные на элементах входного вектора\n",
    "- попарные операции над парами элементов вектора\n",
    "\n",
    "Мы начинаем с того, что переводим кубиты в состояние суперпозиции, применяя операторы Адамара. Далее мы применяем однокубитные параметризованные операции и снова гейты Адамара. После этого мы применяем связку $CNOT$ --> параметризованная парой операция --> $CNOT$.\n",
    "\n",
    "#### Выбор операции\n",
    "\n",
    "Следуя идее упомянутой статьи, в качестве что одно-элементной, что двух-элементной операции мы будем использовать гейт $U_1$. Разница будет лишь в том, что мы передаем на вход в качестве параметра.\n",
    "\n",
    "#### Feature function\n",
    "\n",
    "В качестве параметров на входе гейта $U_1$, как мы уже говорили, выступают один или два элемента вектора $x$. Строго это можно записать как функцию такого вида:\n",
    "\n",
    "$$\n",
    "\\phi(x_1, x_2) = \\begin{cases}\n",
    "\\phi(x),\\text{    }x_1 = x_2 \\\\\n",
    "\\phi(x_1, x_2),\\text{    }x_1 \\neq x_2\n",
    "\\end{cases}\n",
    "$$\n",
    "\n",
    "Мы будем называть ее _feature function_. В некотором смысле можно сказать, что именно эта функция определяет тип ядра по аналогии с классическим SVM. В работе {cite}`qsvmmap` описано много разных вариантов таких _feature function_, мы будем использовать следующую:\n",
    "\n",
    "$$\n",
    "\\begin{gathered}\n",
    "\\phi(x) = x \\\\\n",
    "\\phi(x_1, x_2) = \\pi \\cos{x_1} \\cos{x_2}\n",
    "\\end{gathered}\n",
    "$$\n",
    "\n",
    "#### Скалярное произведение\n",
    "\n",
    "Все что мы описали выше, обозначим как квантовую схему $U(x)$. Она преобразует нам вектор классических данных $x$ в квантовое состояние $\\ket{\\Psi}$. Но нам то нужно получить скалярное произведение $\\braket{U(x_1)|U(x_2)}$! Выглядит сложно, но на самом деле существует эффективный способ получить эту величину без необходимости восстанавливать весь вектор состояния. Можно показать, что величина $\\braket{U(x_1)|U(x_2)}$ равна вероятности нулевой битовой строки ($\\ket{0, 0, ...., 0}$) при измерении другой схемы: $U(x_1)U(x_2)^\\dagger$.\n",
    "\n",
    "Все это может казаться сложным и запутанным, но должно стать гораздо понятнее, когда мы посмотрим на пример реализации от начала и до конца.\n",
    "\n",
    "## Пример реализации\n",
    "\n",
    "### Схема\n",
    "\n",
    "Для начала необходимые импорты."
   ]
  },
  {
   "cell_type": "code",
   "execution_count": 1,
   "id": "2c4ecace",
   "metadata": {},
   "outputs": [],
   "source": [
    "from pennylane import numpy as np\n",
    "import pennylane as qml\n",
    "import matplotlib.pyplot as plt\n",
    "%config InlineBackend.figure_format = 'retina'\n",
    "from sklearn.datasets import make_moons"
   ]
  },
  {
   "cell_type": "markdown",
   "id": "550c2983",
   "metadata": {},
   "source": [
    "Помимо всех привычных, нам еще потребуется классический SVM из `scikit-learn`:"
   ]
  },
  {
   "cell_type": "code",
   "execution_count": 2,
   "id": "4a9639b0",
   "metadata": {},
   "outputs": [],
   "source": [
    "from sklearn.svm import SVC"
   ]
  },
  {
   "cell_type": "markdown",
   "id": "ae868a69",
   "metadata": {},
   "source": [
    "Мы будем работать с уже привычным нам набором \"Tow Moons\". Только в этом случае мы будем использовать чуть-чуть другую нормализацию -- для нашего ядра элементы вектора **x** должны быть в интервале $[-1, 1]$. Сразу переведем наши данные в этот диапазон:"
   ]
  },
  {
   "cell_type": "code",
   "execution_count": 3,
   "id": "83b4f271",
   "metadata": {},
   "outputs": [
    {
     "data": {
      "image/png": "[encoded data removed]",
      "text/plain": [
       "<Figure size 288x216 with 2 Axes>"
      ]
     },
     "metadata": {
      "filenames": {
       "image/png": "/home/runner/work/qmlcourse/qmlcourse/qmlcourseRU/_build/jupyter_execute/book/qsvmblock/hybridsvm_5_0.png"
      },
      "image/png": {
       "height": 197,
       "width": 281
      },
      "needs_background": "light"
     },
     "output_type": "display_data"
    }
   ],
   "source": [
    "x, y = make_moons(n_samples=50)\n",
    "y = y * 2 - 1\n",
    "\n",
    "def normalize(x):\n",
    "    \"\"\"\n",
    "    Переводит значения в интервал от -1 до 1\n",
    "    \"\"\"\n",
    "    min_ = x.min()\n",
    "    max_ = x.max()\n",
    "    return 2 * (x - min_) / (max_ - min_) - 1\n",
    "\n",
    "x[:, 0] = normalize(x[:, 0])\n",
    "x[:, 1] = normalize(x[:, 1])\n",
    "\n",
    "plt.figure(figsize=(4, 3))\n",
    "cb = plt.scatter(x[:, 0], x[:, 1], c=y)\n",
    "plt.colorbar(cb)\n",
    "plt.show()"
   ]
  },
  {
   "cell_type": "markdown",
   "id": "0bc9d534",
   "metadata": {},
   "source": [
    "И привычное нам объявление устройства."
   ]
  },
  {
   "cell_type": "code",
   "execution_count": 4,
   "id": "f1577c7b",
   "metadata": {},
   "outputs": [],
   "source": [
    "dev = qml.device(\"default.qubit\", 2)"
   ]
  },
  {
   "cell_type": "markdown",
   "id": "02fd97d0",
   "metadata": {},
   "source": [
    "Теперь давайте для начала реализуем наше преобразование над одним из векторов ($U(x)$). Поскольку далее нам потребуется еще и $U(x)^\\dagger$, то мы сразу воспользуемся декоратором `@qml.template`, который позволит нам автоматически получить обратную схему."
   ]
  },
  {
   "cell_type": "code",
   "execution_count": 5,
   "id": "b47877c9",
   "metadata": {},
   "outputs": [],
   "source": [
    "@qml.template\n",
    "def var_layer(x):\n",
    "    qml.Hadamard(wires=0)\n",
    "    qml.Hadamard(wires=1)\n",
    "\n",
    "    qml.U1(x[0], wires=0)\n",
    "    qml.U1(x[1], wires=1)\n",
    "\n",
    "    qml.Hadamard(wires=0)\n",
    "    qml.Hadamard(wires=1)\n",
    "\n",
    "    qml.CNOT(wires=[0, 1])\n",
    "    qml.U1(np.pi * np.cos(x[0]) * np.cos(x[1]), wires=1)\n",
    "    qml.CNOT(wires=[0, 1])"
   ]
  },
  {
   "cell_type": "markdown",
   "id": "f3d2bf4d",
   "metadata": {},
   "source": [
    "А теперь реализуем $\\braket{U(x_1)|U(x_2)} = \\bra{U(x_1)U(x_2)^\\dagger \\Psi} M_0 \\ket{U(x_1)U(x_2)^\\dagger \\Psi}$. Тут $M_0$ -- это проектор на один из собственных векторов системы кубитов, а именно на \"нулевой\": $M_0 = \\ket{0, ..., 0}\\bra{0, ..., 0}$. Проще говоря, мы реализуем схему, которая нам дает вероятности каждой из битовых строк (а дальше мы просто возьмем первую, она и отвечает строке $0,...0$):"
   ]
  },
  {
   "cell_type": "code",
   "execution_count": 6,
   "id": "75a26575",
   "metadata": {},
   "outputs": [],
   "source": [
    "@qml.qnode(dev)\n",
    "def dot_prod(x1, x2):\n",
    "    var_layer(x1)\n",
    "    qml.inv(var_layer(x2))\n",
    "\n",
    "    return qml.probs(wires=[0, 1])"
   ]
  },
  {
   "cell_type": "markdown",
   "id": "f82c113e",
   "metadata": {},
   "source": [
    "Ну и сразу вспомогательную функцию, которая нам считает то, что нам было нужно:"
   ]
  },
  {
   "cell_type": "code",
   "execution_count": 7,
   "id": "7ea93642",
   "metadata": {},
   "outputs": [],
   "source": [
    "def q_dot_prod(i, j):\n",
    "    x1 = (x[i, 0], x[i, 1])\n",
    "    x2 = (x[j, 0], x[j, 1])\n",
    "    return dot_prod(x1, x2)[0]"
   ]
  },
  {
   "cell_type": "markdown",
   "id": "d18cd38c",
   "metadata": {},
   "source": [
    "Для самопроверки убедимся в том, что наше \"скалярное произведение\" симметрично:"
   ]
  },
  {
   "cell_type": "code",
   "execution_count": 8,
   "id": "4022e60f",
   "metadata": {},
   "outputs": [
    {
     "name": "stdout",
     "output_type": "stream",
     "text": [
      "True\n"
     ]
    }
   ],
   "source": [
    "print(np.allclose(q_dot_prod(0, 1), q_dot_prod(1, 0)))"
   ]
  },
  {
   "cell_type": "markdown",
   "id": "df0c6c01",
   "metadata": {},
   "source": [
    "И сразу посмотрим на то, как выглядит наша схема:"
   ]
  },
  {
   "cell_type": "code",
   "execution_count": 9,
   "id": "731c337c",
   "metadata": {},
   "outputs": [
    {
     "name": "stdout",
     "output_type": "stream",
     "text": [
      " 0: ──H──Rϕ(-0.977)──H──╭C────────────╭C──╭C────────────────╭C────H⁻¹──Rϕ(0.311)⁻¹───H⁻¹──╭┤ Probs \n",
      " 1: ──H──Rϕ(0.0118)──H──╰X──Rϕ(1.76)──╰X──╰X⁻¹──Rϕ(2.99)⁻¹──╰X⁻¹──H⁻¹──Rϕ(0.0118)⁻¹──H⁻¹──╰┤ Probs \n",
      "\n"
     ]
    }
   ],
   "source": [
    "print(dot_prod.draw())"
   ]
  },
  {
   "cell_type": "markdown",
   "id": "022bd3a6",
   "metadata": {},
   "source": [
    "### Гибридный SVM\n",
    "\n",
    "Мы не будем сами с нуля писать решение задачи квадратичного программирования. Мы воспользуемся готовой рутиной из `scikit-learn`. Используемая там реализация позволяет вместо ядерной функции передать сразу матрицу Грама ([Gram matrix](https://en.wikipedia.org/wiki/Gram_matrix)). На самом деле это просто матрица всех попарных скалярных произведений наших векторов. Вычислим ее, сразу воспользовавшись тем, что $\\braket{U(x)|U(x)} = 1$ и $\\braket{U(x_1)|U(x_2)} = \\braket{U(x_2)|U(x_1)}$:"
   ]
  },
  {
   "cell_type": "code",
   "execution_count": 10,
   "id": "339a44ce",
   "metadata": {},
   "outputs": [],
   "source": [
    "gram_mat = np.zeros((x.shape[0], x.shape[0]))\n",
    "\n",
    "for i in range(x.shape[0]):\n",
    "    for j in range(x.shape[0]):\n",
    "        if i == j:\n",
    "            gram_mat[i, j] = 1\n",
    "        if i > j:\n",
    "            r = q_dot_prod(i, j)\n",
    "            gram_mat[i, j] = r\n",
    "            gram_mat[j, i] = r"
   ]
  },
  {
   "cell_type": "markdown",
   "id": "e94e026a",
   "metadata": {},
   "source": [
    "Обучим нашу модель:"
   ]
  },
  {
   "cell_type": "code",
   "execution_count": 11,
   "id": "522cad0b",
   "metadata": {},
   "outputs": [
    {
     "data": {
      "text/plain": [
       "SVC(kernel='precomputed')"
      ]
     },
     "execution_count": 11,
     "metadata": {},
     "output_type": "execute_result"
    }
   ],
   "source": [
    "model = SVC(kernel=\"precomputed\")\n",
    "model.fit(gram_mat, y)"
   ]
  },
  {
   "cell_type": "markdown",
   "id": "a40ff1e9",
   "metadata": {},
   "source": [
    "Посчитаем предсказания и посмотрим на результат:"
   ]
  },
  {
   "cell_type": "code",
   "execution_count": 12,
   "id": "ee2412c1",
   "metadata": {},
   "outputs": [
    {
     "data": {
      "image/png": "[encoded data removed]",
      "text/plain": [
       "<Figure size 288x216 with 2 Axes>"
      ]
     },
     "metadata": {
      "filenames": {
       "image/png": "/home/runner/work/qmlcourse/qmlcourse/qmlcourseRU/_build/jupyter_execute/book/qsvmblock/hybridsvm_23_0.png"
      },
      "image/png": {
       "height": 197,
       "width": 281
      },
      "needs_background": "light"
     },
     "output_type": "display_data"
    }
   ],
   "source": [
    "preds = model.predict(X=gram_mat)\n",
    "\n",
    "plt.figure(figsize=(4, 3))\n",
    "cb = plt.scatter(x[:, 0], x[:, 1], c=preds)\n",
    "plt.colorbar(cb)\n",
    "plt.show()"
   ]
  },
  {
   "cell_type": "markdown",
   "id": "fda6a3ec",
   "metadata": {},
   "source": [
    "Результат выглядит неплохо!\n",
    "\n",
    "## Заключение\n",
    "\n",
    "Расчет полной матрицы скалярных произведений дает нам сложность $O(N^2)$ вызовов. Но основной потенциал гибридного SVM в том, что задачу квадратичной оптимизации на самом деле можно тоже решать на квантовом компьютере, используя алгоритм Гровера (про него рассказано в ранних факультативных лекциях), причем за сложность всего $O(N)$ и без расчета полной матрицы Грама!\n",
    "\n",
    "Многие считают, что NISQ квантовые компьютеры могут стать для SVM чем-то типа видеокарт для нейронных сетей и вернуть этот алгоритм на пьедестал лучших алгоритмов машинного обучения!"
   ]
  }
 ],
 "metadata": {
  "jupytext": {
   "formats": "md:myst",
   "text_representation": {
    "extension": ".md",
    "format_name": "myst"
   }
  },
  "kernelspec": {
   "display_name": "Python 3",
   "language": "python",
   "name": "python3"
  },
  "language_info": {
   "codemirror_mode": {
    "name": "ipython",
    "version": 3
   },
   "file_extension": ".py",
   "mimetype": "text/x-python",
   "name": "python",
   "nbconvert_exporter": "python",
   "pygments_lexer": "ipython3",
   "version": "3.8.11"
  },
  "source_map": [
   11,
   166,
   172,
   176,
   178,
   182,
   201,
   205,
   207,
   211,
   226,
   230,
   237,
   241,
   246,
   250,
   252,
   256,
   258,
   264,
   275,
   279,
   282,
   286,
   293
  ]
 },
 "nbformat": 4,
 "nbformat_minor": 5
}