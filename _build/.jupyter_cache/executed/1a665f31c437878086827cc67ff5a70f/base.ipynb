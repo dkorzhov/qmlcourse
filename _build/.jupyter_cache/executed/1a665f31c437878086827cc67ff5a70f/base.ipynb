{
 "cells": [
  {
   "cell_type": "code",
   "execution_count": 1,
   "id": "aa42b873",
   "metadata": {},
   "outputs": [
    {
     "name": "stdout",
     "output_type": "stream",
     "text": [
      "Исходный x меньше или равен нулю\n",
      "3\n"
     ]
    }
   ],
   "source": [
    "x = -3  # попробуйте поменять значение переменной\n",
    "\n",
    "if x > 0:\n",
    "    print(\"Исходный x больше нуля\")\n",
    "    print(x)\n",
    "else:\n",
    "    print(\"Исходный x меньше или равен нулю\")\n",
    "    print(-x)"
   ]
  },
  {
   "cell_type": "code",
   "execution_count": 2,
   "id": "bfa8ead2",
   "metadata": {},
   "outputs": [
    {
     "name": "stdout",
     "output_type": "stream",
     "text": [
      "x меньше нуля\n",
      "Такие дела!\n"
     ]
    }
   ],
   "source": [
    "x = -3.8  # попробуйте поменять значение переменной\n",
    "\n",
    "if x > 0:\n",
    "    print('x больше нуля')\n",
    "elif x < 0:  # можно написать \"else if x < 0:\"\n",
    "    print('x меньше нуля')\n",
    "else:\n",
    "    print('x в точности равен нулю')\n",
    "print('Такие дела!')"
   ]
  },
  {
   "cell_type": "code",
   "execution_count": 3,
   "id": "d38d05d0",
   "metadata": {},
   "outputs": [
    {
     "name": "stdout",
     "output_type": "stream",
     "text": [
      "False <class 'bool'>\n",
      "True <class 'bool'>\n"
     ]
    }
   ],
   "source": [
    "x = -3.8\n",
    "\n",
    "condition_1 = x > 0\n",
    "condition_2 = x < 0\n",
    "\n",
    "print(condition_1, type(condition_1))\n",
    "print(condition_2, type(condition_2))"
   ]
  },
  {
   "cell_type": "code",
   "execution_count": 4,
   "id": "71e3a74c",
   "metadata": {},
   "outputs": [
    {
     "name": "stdout",
     "output_type": "stream",
     "text": [
      "False\n",
      "True\n"
     ]
    }
   ],
   "source": [
    "print(3.0 > 3)\n",
    "print(3.0 == 3)"
   ]
  },
  {
   "cell_type": "code",
   "execution_count": 5,
   "id": "dbc79c85",
   "metadata": {},
   "outputs": [
    {
     "name": "stdout",
     "output_type": "stream",
     "text": [
      "Вторая четверть\n"
     ]
    }
   ],
   "source": [
    "x = -3.6\n",
    "y = 2.5432\n",
    "\n",
    "if x > 0:\n",
    "    if y > 0:\n",
    "        # x > 0, y > 0\n",
    "        print(\"Первая четверть\")\n",
    "    else:\n",
    "        # x > 0, y < 0\n",
    "        print(\"Четвертая четверть\")\n",
    "else:\n",
    "    if y > 0:\n",
    "        # x < 0, y > 0\n",
    "        print(\"Вторая четверть\")\n",
    "    else:\n",
    "        # x < 0, y < 0\n",
    "        print(\"Третья четверть\")"
   ]
  },
  {
   "cell_type": "code",
   "execution_count": 6,
   "id": "bbc81c95",
   "metadata": {},
   "outputs": [
    {
     "name": "stdout",
     "output_type": "stream",
     "text": [
      "False\n",
      "True\n",
      "True\n",
      "True\n"
     ]
    }
   ],
   "source": [
    "true_value = True\n",
    "false_value = False\n",
    "\n",
    "# False потому, что один из операндов является False\n",
    "some_value = true_value and false_value\n",
    "print(some_value)\n",
    "\n",
    "# True потому, что хотя бы один из операндов равен True\n",
    "some_value = true_value or false_value\n",
    "print(some_value)\n",
    "\n",
    "# отрицание True (истины) есть False (ложь)\n",
    "some_value = not true_value\n",
    "print(some_value == false_value)\n",
    "\n",
    "# пример сложного условия - порядок лучше в явном виде задавать скобками\n",
    "hard_condition = (not true_value or false_value) or (true_value != false_value)\n",
    "print(hard_condition)"
   ]
  },
  {
   "cell_type": "code",
   "execution_count": 7,
   "id": "89733f9c",
   "metadata": {},
   "outputs": [
    {
     "name": "stdout",
     "output_type": "stream",
     "text": [
      "Вторая четверть\n",
      "Is x small?  False\n",
      "Is x large?  True\n",
      "False\n",
      "True\n"
     ]
    }
   ],
   "source": [
    "x = -3.6\n",
    "y = 2.5432\n",
    "\n",
    "if x > 0 and y > 0:  # конструкция заменяет два вложенных if\n",
    "    print(\"Первая четверть\")\n",
    "elif x > 0 and y < 0:\n",
    "    print(\"Четвертая четверть\")\n",
    "elif y > 0:\n",
    "    print(\"Вторая четверть\")\n",
    "else:\n",
    "    print(\"Третья четверть\")\n",
    "\n",
    "# определим, большое ли число x (в терминах модуля)\n",
    "x_is_small = (x < 3) and (x > -3)\n",
    "# число большое, если оно не маленькое (по модулю)\n",
    "x_is_large = not x_is_small  # можно отрицать факт малости x\n",
    "\n",
    "print('Is x small? ', x_is_small)\n",
    "print('Is x large? ', x_is_large)\n",
    "\n",
    "# так тоже можно писать - на манер неравенств в математике\n",
    "another_x_is_small = -3 < x < 3\n",
    "print(another_x_is_small)\n",
    "print(another_x_is_small == x_is_small)"
   ]
  }
 ],
 "metadata": {
  "jupytext": {
   "formats": "md:myst",
   "text_representation": {
    "extension": ".md",
    "format_name": "myst"
   }
  },
  "kernelspec": {
   "display_name": "Python 3",
   "language": "python",
   "name": "python3"
  },
  "language_info": {
   "codemirror_mode": {
    "name": "ipython",
    "version": 3
   },
   "file_extension": ".py",
   "mimetype": "text/x-python",
   "name": "python",
   "nbconvert_exporter": "python",
   "pygments_lexer": "ipython3",
   "version": "3.8.11"
  },
  "source_map": [
   11,
   30,
   39,
   55,
   65,
   73,
   81,
   100,
   103,
   109,
   127,
   142,
   161,
   165,
   190
  ]
 },
 "nbformat": 4,
 "nbformat_minor": 5
}