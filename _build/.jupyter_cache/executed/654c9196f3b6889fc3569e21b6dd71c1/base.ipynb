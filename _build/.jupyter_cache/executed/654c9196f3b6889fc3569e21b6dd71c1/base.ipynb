{
 "cells": [
  {
   "cell_type": "code",
   "execution_count": 1,
   "id": "0ca2620a",
   "metadata": {},
   "outputs": [],
   "source": [
    "import numpy as np\n",
    "qubit = np.array([1 / np.sqrt(2) + 0j, 1 / np.sqrt(2) + 0j]).reshape((2, 1))"
   ]
  },
  {
   "cell_type": "code",
   "execution_count": 2,
   "id": "baca1bba",
   "metadata": {},
   "outputs": [
    {
     "name": "stdout",
     "output_type": "stream",
     "text": [
      "(2, 1)\n"
     ]
    }
   ],
   "source": [
    "print(qubit.shape)"
   ]
  },
  {
   "cell_type": "code",
   "execution_count": 3,
   "id": "d6b4e926",
   "metadata": {},
   "outputs": [
    {
     "name": "stdout",
     "output_type": "stream",
     "text": [
      "True\n"
     ]
    }
   ],
   "source": [
    "basis_0 = np.array([1 + 0j, 0 + 0j]).reshape((2, 1))\n",
    "basis_1 = np.array([0 + 0j, 1 + 0j]).reshape((2, 1))\n",
    "\n",
    "c0 = c1 = 1 / np.sqrt(2)\n",
    "\n",
    "print(np.allclose(qubit, c0 * basis_0 + c1 * basis_1))"
   ]
  },
  {
   "cell_type": "code",
   "execution_count": 4,
   "id": "2f05e484",
   "metadata": {},
   "outputs": [
    {
     "name": "stdout",
     "output_type": "stream",
     "text": [
      "True\n",
      "True\n"
     ]
    }
   ],
   "source": [
    "p0 = np.conj(c0) * c0\n",
    "p1 = np.conj(c1) * c1\n",
    "\n",
    "print(np.allclose(p0, p1))\n",
    "print(np.allclose(p0 + p1, 1.0))"
   ]
  },
  {
   "cell_type": "code",
   "execution_count": 5,
   "id": "7996bb37",
   "metadata": {},
   "outputs": [
    {
     "name": "stdout",
     "output_type": "stream",
     "text": [
      "True\n"
     ]
    }
   ],
   "source": [
    "print(np.allclose(np.conj(qubit).T @ qubit, 1.0))"
   ]
  },
  {
   "cell_type": "code",
   "execution_count": 6,
   "id": "6ec7c150",
   "metadata": {},
   "outputs": [],
   "source": [
    "plus = (basis_0 + basis_1) / np.sqrt(2)\n",
    "minus = (basis_0 - basis_1) / np.sqrt(2)"
   ]
  },
  {
   "cell_type": "code",
   "execution_count": 7,
   "id": "43826cf4",
   "metadata": {},
   "outputs": [],
   "source": [
    "R = (basis_0 + 1j * basis_1) / np.sqrt(2)\n",
    "L = (basis_0 - 1j * basis_1) / np.sqrt(2)"
   ]
  },
  {
   "cell_type": "code",
   "execution_count": 8,
   "id": "90f19e99",
   "metadata": {},
   "outputs": [
    {
     "name": "stdout",
     "output_type": "stream",
     "text": [
      "True\n",
      "True\n",
      "True\n"
     ]
    }
   ],
   "source": [
    "print(np.allclose(np.conj(basis_0).T @ basis_1, 0))\n",
    "print(np.allclose(np.conj(plus).T @ minus, 0))\n",
    "print(np.allclose(np.conj(R).T @ L, 0))"
   ]
  },
  {
   "cell_type": "code",
   "execution_count": 9,
   "id": "e4145832",
   "metadata": {},
   "outputs": [],
   "source": [
    "h = 1 / np.sqrt(2) * np.array([\n",
    "    [1 + 0j, 1 + 0j],\n",
    "    [1 + 0j, 0j - 1]\n",
    "])"
   ]
  },
  {
   "cell_type": "code",
   "execution_count": 10,
   "id": "1b9d81c8",
   "metadata": {},
   "outputs": [
    {
     "name": "stdout",
     "output_type": "stream",
     "text": [
      "True\n"
     ]
    }
   ],
   "source": [
    "print(np.allclose(np.conj(h) @ h, np.eye(2)))"
   ]
  },
  {
   "cell_type": "code",
   "execution_count": 11,
   "id": "ca1af407",
   "metadata": {},
   "outputs": [
    {
     "name": "stdout",
     "output_type": "stream",
     "text": [
      "True\n"
     ]
    }
   ],
   "source": [
    "print(np.allclose(h @ basis_0, plus))"
   ]
  },
  {
   "cell_type": "code",
   "execution_count": 12,
   "id": "bb286510",
   "metadata": {},
   "outputs": [],
   "source": [
    "pauli_x = np.array([[0 + 0j, 1 + 0j], [1 + 0j, 0 + 0j]])\n",
    "pauli_y = np.array([[0 + 0j, 0 - 1j], [0 + 1j, 0 + 0j]])\n",
    "pauli_z = np.array([[1 + 0j, 0 + 0j], [0 + 0j, 0j - 1]])"
   ]
  },
  {
   "cell_type": "code",
   "execution_count": 13,
   "id": "2274a84d",
   "metadata": {},
   "outputs": [
    {
     "name": "stdout",
     "output_type": "stream",
     "text": [
      "(array([ 1.+0.j, -1.+0.j]), array([[1.+0.j, 0.+0.j],\n",
      "       [0.+0.j, 1.+0.j]]))\n"
     ]
    }
   ],
   "source": [
    "print(np.linalg.eig(pauli_z))"
   ]
  },
  {
   "cell_type": "code",
   "execution_count": 14,
   "id": "f1e74e05",
   "metadata": {},
   "outputs": [
    {
     "name": "stdout",
     "output_type": "stream",
     "text": [
      "(array([ 1.+0.j, -1.+0.j]), array([[ 0.70710678-0.j,  0.70710678+0.j],\n",
      "       [ 0.70710678+0.j, -0.70710678-0.j]]))\n",
      "(array([ 1.+0.j, -1.+0.j]), array([[-0.        -0.70710678j,  0.70710678+0.j        ],\n",
      "       [ 0.70710678+0.j        ,  0.        -0.70710678j]]))\n"
     ]
    }
   ],
   "source": [
    "print(np.linalg.eig(pauli_x))\n",
    "print(np.linalg.eig(pauli_y))"
   ]
  },
  {
   "cell_type": "code",
   "execution_count": 15,
   "id": "05df283c",
   "metadata": {},
   "outputs": [
    {
     "name": "stdout",
     "output_type": "stream",
     "text": [
      "[[-2.23711432e-17+0.j]]\n"
     ]
    }
   ],
   "source": [
    "print(plus.conj().T @ pauli_z @ plus)"
   ]
  },
  {
   "cell_type": "code",
   "execution_count": 16,
   "id": "7ba55027",
   "metadata": {},
   "outputs": [
    {
     "name": "stdout",
     "output_type": "stream",
     "text": [
      "[[1.+0.j]]\n"
     ]
    }
   ],
   "source": [
    "print(plus.conj().T @ pauli_x @ plus)"
   ]
  },
  {
   "cell_type": "code",
   "execution_count": 17,
   "id": "65c3c678",
   "metadata": {},
   "outputs": [],
   "source": [
    "super_position = h @ basis_0\n",
    "eigenvectors = np.linalg.eig(pauli_z)[1]\n",
    "\n",
    "proj_0 = eigenvectors[0].reshape((-1, 1)) @ eigenvectors[0].reshape((1, -1))\n",
    "proj_1 = eigenvectors[1].reshape((-1, 1)) @ eigenvectors[1].reshape((1, -1))"
   ]
  },
  {
   "cell_type": "code",
   "execution_count": 18,
   "id": "d9cf1c66",
   "metadata": {},
   "outputs": [
    {
     "name": "stdout",
     "output_type": "stream",
     "text": [
      "True\n",
      "True\n"
     ]
    }
   ],
   "source": [
    "p_0 = super_position.conj().T @ proj_0 @ super_position\n",
    "p_1 = super_position.conj().T @ proj_1 @ super_position\n",
    "\n",
    "print(np.allclose(p_0 + p_1, 1.0))\n",
    "print(np.allclose(p_0, 0.5))"
   ]
  }
 ],
 "metadata": {
  "jupytext": {
   "formats": "md:myst",
   "text_representation": {
    "extension": ".md",
    "format_name": "myst"
   }
  },
  "kernelspec": {
   "display_name": "Python 3",
   "language": "python",
   "name": "python3"
  },
  "language_info": {
   "codemirror_mode": {
    "name": "ipython",
    "version": 3
   },
   "file_extension": ".py",
   "mimetype": "text/x-python",
   "name": "python",
   "nbconvert_exporter": "python",
   "pygments_lexer": "ipython3",
   "version": "3.8.12"
  },
  "source_map": [
   11,
   94,
   97,
   101,
   103,
   130,
   137,
   143,
   149,
   153,
   155,
   177,
   180,
   186,
   189,
   193,
   197,
   271,
   276,
   280,
   282,
   286,
   288,
   325,
   329,
   345,
   347,
   363,
   366,
   382,
   384,
   388,
   390,
   412,
   419,
   431,
   437
  ]
 },
 "nbformat": 4,
 "nbformat_minor": 5
}