{
 "cells": [
  {
   "cell_type": "code",
   "execution_count": 1,
   "id": "3a9e5c2d",
   "metadata": {},
   "outputs": [
    {
     "name": "stdout",
     "output_type": "stream",
     "text": [
      "{'Кунг Фьюри': '1968-09-09', 'Наташа Романова': '1985-03-15'}\n"
     ]
    }
   ],
   "source": [
    "# локально попробуйте поменять значение переменной dates\n",
    "dates = {\"Кунг Фьюри\": \"1968-09-09\", \"Наташа Романова\": \"1985-03-15\"}\n",
    "print(dates)"
   ]
  },
  {
   "cell_type": "code",
   "execution_count": 2,
   "id": "de8cbe34",
   "metadata": {},
   "outputs": [
    {
     "data": {
      "text/plain": [
       "'1968-09-09'"
      ]
     },
     "execution_count": 2,
     "metadata": {},
     "output_type": "execute_result"
    }
   ],
   "source": [
    "dates[\"Кунг Фьюри\"]"
   ]
  },
  {
   "cell_type": "code",
   "execution_count": 3,
   "id": "e85d1a44",
   "metadata": {},
   "outputs": [
    {
     "name": "stdout",
     "output_type": "stream",
     "text": [
      "Ключа действительно нет: 'Капитан Ямайка'\n"
     ]
    }
   ],
   "source": [
    "# пока этого ключа нет в словаре, будет ошибка при обращении\n",
    "# поэтому используем перехват ошибок\n",
    "try:\n",
    "    print(dates[\"Капитан Ямайка\"])\n",
    "\n",
    "except KeyError as e:\n",
    "    print(f\"Ключа действительно нет: {e}\")"
   ]
  },
  {
   "cell_type": "code",
   "execution_count": 4,
   "id": "9f192fb1",
   "metadata": {},
   "outputs": [
    {
     "name": "stdout",
     "output_type": "stream",
     "text": [
      "{'Кунг Фьюри': '1960-09-09', 'Наташа Романова': '1985-03-15', 'Капитан Ямайка': '1930-10-04'}\n"
     ]
    }
   ],
   "source": [
    "# этот ключ уже был в примере\n",
    "dates[\"Кунг Фьюри\"] = \"1960-09-09\"\n",
    "\n",
    "# а такого не было\n",
    "dates[\"Капитан Ямайка\"] = \"1930-10-04\"\n",
    "\n",
    "print(dates)"
   ]
  },
  {
   "cell_type": "code",
   "execution_count": 5,
   "id": "d14e1919",
   "metadata": {},
   "outputs": [
    {
     "name": "stdout",
     "output_type": "stream",
     "text": [
      "\"матан\" in marks = False\n",
      "\"линал\" in marks = True\n"
     ]
    }
   ],
   "source": [
    "# еще способ создания: пары можно передавать как аргументы dict через `=`\n",
    "marks = dict(линал=100, английский=92)\n",
    "\n",
    "# False\n",
    "print(f'{\"матан\" in marks = }')\n",
    "\n",
    "# True\n",
    "print(f'{\"линал\" in marks = }')"
   ]
  },
  {
   "cell_type": "code",
   "execution_count": 6,
   "id": "5de422ff",
   "metadata": {},
   "outputs": [
    {
     "name": "stdout",
     "output_type": "stream",
     "text": [
      "Нет оценки по матану :(\n"
     ]
    }
   ],
   "source": [
    "if \"матан\" in marks:\n",
    "    print(marks[\"матан\"])\n",
    "\n",
    "else:\n",
    "    print(\"Нет оценки по матану :(\")"
   ]
  },
  {
   "cell_type": "code",
   "execution_count": 7,
   "id": "c69bb493",
   "metadata": {},
   "outputs": [
    {
     "name": "stdout",
     "output_type": "stream",
     "text": [
      "None\n"
     ]
    }
   ],
   "source": [
    "empty_dict = {}\n",
    "\n",
    "# None\n",
    "print(empty_dict.get(\"ключ\"))"
   ]
  },
  {
   "cell_type": "code",
   "execution_count": 8,
   "id": "cd5e378b",
   "metadata": {},
   "outputs": [
    {
     "name": "stdout",
     "output_type": "stream",
     "text": [
      "-1\n"
     ]
    }
   ],
   "source": [
    "# теперь будет возвращено значение `-1`\n",
    "print(empty_dict.get(\"ключ\", -1))"
   ]
  },
  {
   "cell_type": "code",
   "execution_count": 9,
   "id": "aaccbcff",
   "metadata": {},
   "outputs": [
    {
     "name": "stdout",
     "output_type": "stream",
     "text": [
      "len(empty_dict) = 0\n",
      "len(marks) = 2\n"
     ]
    }
   ],
   "source": [
    "# empty_dict -- пустой словарь, поэтому длина равна 0\n",
    "print(f\"{len(empty_dict) = }\")\n",
    "\n",
    "# а вот словарь marks уже содержит две пары, поэтому длина 2\n",
    "print(f\"{len(marks) = }\")"
   ]
  },
  {
   "cell_type": "code",
   "execution_count": 10,
   "id": "1a2bfca0",
   "metadata": {},
   "outputs": [
    {
     "name": "stdout",
     "output_type": "stream",
     "text": [
      "None\n"
     ]
    }
   ],
   "source": [
    "# из словаря dates удаляется ключ \"Наташа Романова\"\n",
    "del dates[\"Наташа Романова\"]\n",
    "print(dates.get(\"Наташа Романова\"))"
   ]
  },
  {
   "cell_type": "code",
   "execution_count": 11,
   "id": "565e3320",
   "metadata": {},
   "outputs": [
    {
     "name": "stdout",
     "output_type": "stream",
     "text": [
      "[1, 2, 3, 4]\n"
     ]
    }
   ],
   "source": [
    "# еще один способ создания словаря из последовательности пар\n",
    "holidays = dict([(\"January\", [1, 2, 3, 4]), (\"Feburary\", [23]), (\"March\", [8])])\n",
    "\n",
    "# pop() возвращает значение, соответствующее ключу, значит его можно присвоить\n",
    "# переменной\n",
    "january_days = holidays.pop(\"January\")\n",
    "\n",
    "# напечатается соответствующий массив\n",
    "print(january_days)"
   ]
  },
  {
   "cell_type": "code",
   "execution_count": 12,
   "id": "280dea77",
   "metadata": {},
   "outputs": [
    {
     "name": "stdout",
     "output_type": "stream",
     "text": [
      "('March', [8])\n"
     ]
    }
   ],
   "source": [
    "# в результате -- последняя добавленная пара\n",
    "print(holidays.popitem())"
   ]
  },
  {
   "cell_type": "code",
   "execution_count": 13,
   "id": "c5b23b16",
   "metadata": {},
   "outputs": [
    {
     "name": "stdout",
     "output_type": "stream",
     "text": [
      "0\n"
     ]
    }
   ],
   "source": [
    "# вернемся к предыдущему примеру\n",
    "# словарь становится пустой\n",
    "holidays.clear()\n",
    "\n",
    "# значит, длина равна 0\n",
    "print(len(holidays))"
   ]
  },
  {
   "cell_type": "code",
   "execution_count": 14,
   "id": "662b68b2",
   "metadata": {},
   "outputs": [
    {
     "name": "stdout",
     "output_type": "stream",
     "text": [
      "1st year\n"
     ]
    }
   ],
   "source": [
    "# создадим два словаря: в первом уже есть два ключа\n",
    "quidditch_team = {\"Fred Weasley\": \"3rd year\", \"George Weasley\": \"3rd year\"}\n",
    "\n",
    "# во втором -- один ключ\n",
    "new_members = {\"Harry Potter\": \"1st year\"}\n",
    "\n",
    "# добавим пары из new_members\n",
    "# метод update() также работает in place, поэтому после выполнения данной\n",
    "# строки кода, в словаре quidditch_team станет три ключа\n",
    "quidditch_team.update(new_members)\n",
    "\n",
    "print(quidditch_team[\"Harry Potter\"])"
   ]
  },
  {
   "cell_type": "code",
   "execution_count": 15,
   "id": "50ce1684",
   "metadata": {},
   "outputs": [
    {
     "name": "stdout",
     "output_type": "stream",
     "text": [
      "1st year\n"
     ]
    }
   ],
   "source": [
    "# данный ключ (то, что записано первым в кортеже) уже есть в quidditch_team\n",
    "member_update = [(\"Harry Potter\", \"2nd year\")]\n",
    "\n",
    "# значение, соответствующее \"Harry Potter\", будет переписано\n",
    "quidditch_team.update(new_members)\n",
    "\n",
    "print(quidditch_team[\"Harry Potter\"])"
   ]
  },
  {
   "cell_type": "code",
   "execution_count": 16,
   "id": "e85b0b81",
   "metadata": {},
   "outputs": [
    {
     "name": "stdout",
     "output_type": "stream",
     "text": [
      "Fred Weasley 3rd year\n",
      "George Weasley 3rd year\n",
      "Harry Potter 1st year\n"
     ]
    }
   ],
   "source": [
    "# словарь в качестве ключей хранит имена игроков\n",
    "for player in quidditch_team:\n",
    "\n",
    "    # на каждой итерации будет напечатан ключ и значение\n",
    "    print(player, quidditch_team[player])"
   ]
  },
  {
   "cell_type": "code",
   "execution_count": 17,
   "id": "22b42e96",
   "metadata": {},
   "outputs": [],
   "source": [
    "# можно создать переменную со всеми значениями словаря\n",
    "school_years = quidditch_team.values()"
   ]
  },
  {
   "cell_type": "code",
   "execution_count": 18,
   "id": "e7aefa00",
   "metadata": {},
   "outputs": [
    {
     "name": "stdout",
     "output_type": "stream",
     "text": [
      "3rd year\n",
      "3rd year\n",
      "1st year\n"
     ]
    }
   ],
   "source": [
    "# словарь в качестве значений хранит годы обучения\n",
    "for year in quidditch_team.values():\n",
    "\n",
    "    # на каждой итерации будет год обучения игрока\n",
    "    print(year)"
   ]
  },
  {
   "cell_type": "code",
   "execution_count": 19,
   "id": "b36226c1",
   "metadata": {},
   "outputs": [
    {
     "name": "stdout",
     "output_type": "stream",
     "text": [
      "Player Fred Weasley is in 3rd year\n",
      "Player George Weasley is in 3rd year\n",
      "Player Harry Potter is in 1st year\n"
     ]
    }
   ],
   "source": [
    "# сразу две переменные: первая последовательно будет ключами,\n",
    "# вторая -- значениями\n",
    "for player, year in quidditch_team.items():\n",
    "\n",
    "    # items() избавляет от необходимости обращаться quidditch_team[player],\n",
    "    # чтобы получить значение. Оно уже в year\n",
    "    print(f\"Player {player} is in {year}\")"
   ]
  },
  {
   "cell_type": "code",
   "execution_count": 20,
   "id": "140b5b81",
   "metadata": {},
   "outputs": [
    {
     "name": "stdout",
     "output_type": "stream",
     "text": [
      "Порядок возрастания: [1, 6, 7]\n"
     ]
    }
   ],
   "source": [
    "# вспомним про рабочие дни, ключи - целые числа по номеру дня недели\n",
    "week = {7: \"weekend\", 6: \"weekend\", 1: \"workday\"}\n",
    "\n",
    "# в sorted_week окажутся ключи, отсортированные в порядке возрастания\n",
    "sorted_week = sorted(week)\n",
    "print(f\"Порядок возрастания: {sorted_week}\")"
   ]
  },
  {
   "cell_type": "code",
   "execution_count": 21,
   "id": "45ce8d07",
   "metadata": {},
   "outputs": [
    {
     "name": "stdout",
     "output_type": "stream",
     "text": [
      "100 0x7fcfb4d37d80\n"
     ]
    }
   ],
   "source": [
    "counter = 100\n",
    "\n",
    "# полученное вами значение адреса может отличаться\n",
    "print(counter, hex(id(counter)))"
   ]
  },
  {
   "cell_type": "code",
   "execution_count": 22,
   "id": "0d64541c",
   "metadata": {},
   "outputs": [
    {
     "name": "stdout",
     "output_type": "stream",
     "text": [
      "counter = 200, hex(id(counter)) = '0x7fcfb4d38a00'\n"
     ]
    }
   ],
   "source": [
    "counter = 200\n",
    "print(f\"{counter = }, {hex(id(counter)) = }\")"
   ]
  },
  {
   "cell_type": "code",
   "execution_count": 23,
   "id": "534c2f2d",
   "metadata": {},
   "outputs": [
    {
     "data": {
      "text/plain": [
       "True"
      ]
     },
     "execution_count": 23,
     "metadata": {},
     "output_type": "execute_result"
    }
   ],
   "source": [
    "# создадим две переменные с одинаковыми значениями в диапазоне от -5 до 256\n",
    "a = 20\n",
    "b = 20\n",
    "\n",
    "# a и b указывают на одно и то же место в памяти\n",
    "# попробуйте у себя поменять значение a и b на число больше 256 или меньше -5\n",
    "id(a) == id(b)"
   ]
  },
  {
   "cell_type": "code",
   "execution_count": 24,
   "id": "9114a10f",
   "metadata": {},
   "outputs": [
    {
     "name": "stdout",
     "output_type": "stream",
     "text": [
      "Было: 0x7fcfac9f1480\n",
      "Стало: 0x7fcfac9f1480 - ничего не поменялось!\n"
     ]
    }
   ],
   "source": [
    "# создадим список и напечатаем его адрес\n",
    "ratings = [1, 2, 3]\n",
    "print(f\"Было: {hex(id(ratings))}\")\n",
    "\n",
    "ratings.append(4)\n",
    "print(f\"Стало: {hex(id(ratings))} - ничего не поменялось!\")"
   ]
  },
  {
   "cell_type": "code",
   "execution_count": 25,
   "id": "dc1b48ff",
   "metadata": {},
   "outputs": [
    {
     "name": "stdout",
     "output_type": "stream",
     "text": [
      "flowers = {'roses': 'red', 'violets': 'blue'}\n",
      "anime = {'Ведьмак': 'Кошмар волка', 'Призрак в доспехах': ['Призрак в доспехах', 'Синдром одиночки', 'Невинность']}\n",
      "literature = {'poem_flowers': {'roses': 'red', 'violets': 'blue'}}\n"
     ]
    }
   ],
   "source": [
    "# при помощи \"литерала\" - фигурных скобок {}\n",
    "flowers = {\"roses\": \"red\", \"violets\": \"blue\"}\n",
    "\n",
    "# при помощи вызова\n",
    "#   dict() и последовательности с парами значений\n",
    "anime = dict([\n",
    "              (\"Ведьмак\", \"Кошмар волка\"),\n",
    "              (\"Призрак в доспехах\", [\"Призрак в доспехах\", \"Синдром одиночки\", \"Невинность\"])\n",
    "             ])\n",
    "\n",
    "#   dict() и \"ключ=значение\"\n",
    "literature = dict(poem_flowers=flowers)\n",
    "\n",
    "print(f\"{flowers = }\\n{anime = }\\n{literature = }\")"
   ]
  },
  {
   "cell_type": "code",
   "execution_count": 26,
   "id": "08915d5a",
   "metadata": {},
   "outputs": [
    {
     "name": "stdout",
     "output_type": "stream",
     "text": [
      "flowers[\"violets\"] = 'blue'\n",
      "flowers.get(\"magnolias\") = None\n"
     ]
    }
   ],
   "source": [
    "# доступ к элементу, если ключа нет - ошибка\n",
    "print(f'{flowers[\"violets\"] = }')\n",
    "\n",
    "# при помощи get()\n",
    "print(f'{flowers.get(\"magnolias\") = }')"
   ]
  },
  {
   "cell_type": "code",
   "execution_count": 27,
   "id": "1f33613b",
   "metadata": {},
   "outputs": [
    {
     "name": "stdout",
     "output_type": "stream",
     "text": [
      "Ключи: dict_keys([0, 1, 2, 3, 4])\n",
      "Значения: dict_values(['Пн', 'Вт', 'Ср', 'Чт', 'Пт'])\n"
     ]
    }
   ],
   "source": [
    "days = [\"Пн\", \"Вт\", \"Ср\", \"Чт\", \"Пт\"]\n",
    "\n",
    "# создадим пустой словарь\n",
    "numbered_days = {}\n",
    "\n",
    "# будем добавлять в него элементы в цикле\n",
    "for num in range(len(days)):\n",
    "    numbered_days[num] = days[num]\n",
    "\n",
    "# получим отдельно ключи и значения\n",
    "# пары из tuple можно сразу получить при помощи метода items()\n",
    "keys = numbered_days.keys()\n",
    "values = numbered_days.values()\n",
    "\n",
    "print(f\"Ключи: {keys}\\nЗначения: {values}\")"
   ]
  }
 ],
 "metadata": {
  "jupytext": {
   "formats": "md:myst",
   "text_representation": {
    "extension": ".md",
    "format_name": "myst"
   }
  },
  "kernelspec": {
   "display_name": "Python 3",
   "language": "python",
   "name": "python3"
  },
  "language_info": {
   "codemirror_mode": {
    "name": "ipython",
    "version": 3
   },
   "file_extension": ".py",
   "mimetype": "text/x-python",
   "name": "python",
   "nbconvert_exporter": "python",
   "pygments_lexer": "ipython3",
   "version": "3.8.12"
  },
  "source_map": [
   11,
   37,
   41,
   49,
   51,
   55,
   63,
   69,
   77,
   87,
   96,
   100,
   106,
   110,
   115,
   119,
   122,
   126,
   132,
   147,
   151,
   155,
   165,
   171,
   174,
   178,
   185,
   196,
   209,
   213,
   221,
   236,
   242,
   247,
   250,
   254,
   260,
   267,
   275,
   279,
   286,
   316,
   321,
   330,
   333,
   346,
   354,
   363,
   370,
   393,
   408,
   412,
   420,
   436
  ]
 },
 "nbformat": 4,
 "nbformat_minor": 5
}