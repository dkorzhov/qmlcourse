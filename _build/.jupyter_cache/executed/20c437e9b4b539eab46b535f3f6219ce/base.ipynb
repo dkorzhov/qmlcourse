{
 "cells": [
  {
   "cell_type": "code",
   "execution_count": 1,
   "id": "2526c231",
   "metadata": {},
   "outputs": [],
   "source": [
    "import numpy as np\n",
    "\n",
    "def ry(state, phi):\n",
    "    return np.array([\n",
    "        [np.cos(phi / 2), -np.sin(phi / 2)],\n",
    "        [np.sin(phi / 2),  np.cos(phi / 2)]\n",
    "    ]) @ state"
   ]
  },
  {
   "cell_type": "code",
   "execution_count": 2,
   "id": "f7bf42bd",
   "metadata": {},
   "outputs": [],
   "source": [
    "basis = np.array([1 + 0j, 0 + 0j]).reshape((2, 1))"
   ]
  },
  {
   "cell_type": "code",
   "execution_count": 3,
   "id": "e87a37b0",
   "metadata": {},
   "outputs": [
    {
     "name": "stdout",
     "output_type": "stream",
     "text": [
      "True\n",
      "True\n"
     ]
    }
   ],
   "source": [
    "def expval(state, op):\n",
    "    return state.conj().T @ op @ state\n",
    "\n",
    "pauli_x = np.array([[0 + 0j, 1 + 0j], [1 + 0j, 0 + 0j]])\n",
    "\n",
    "print(np.allclose(expval(ry(basis, np.pi / 2), pauli_x), 1.0))\n",
    "print(np.allclose(expval(ry(basis, -np.pi / 2), pauli_x), -1.0))"
   ]
  },
  {
   "cell_type": "code",
   "execution_count": 4,
   "id": "9e8b38db",
   "metadata": {},
   "outputs": [],
   "source": [
    "random_state = np.array([0.42 + 0j, np.sqrt(1 - 0.42**2) + 0j]).reshape((2, 1))"
   ]
  },
  {
   "cell_type": "code",
   "execution_count": 5,
   "id": "a1968c95",
   "metadata": {},
   "outputs": [
    {
     "name": "stdout",
     "output_type": "stream",
     "text": [
      "Z:\n",
      "\t[[-0.6472+0.j]]\n",
      "\n",
      "X:\n",
      "\t[[0.76232025+0.j]]\n",
      "\n",
      "Z after RY:\n",
      "\t[[-0.6472+0.j]]\n",
      "\n",
      "X after RY:\n",
      "\t[[0.76232025+0.j]]\n",
      "\n"
     ]
    }
   ],
   "source": [
    "pauli_z = np.array([[1 + 0j, 0 + 0j], [0 + 0j, 0j - 1]])\n",
    "\n",
    "print(\"Z:\\n\\t\" + str(expval(random_state, pauli_z)) + \"\\n\")\n",
    "print(\"X:\\n\\t\" + str(expval(random_state, pauli_x)) + \"\\n\")\n",
    "\n",
    "print(\"Z after RY:\\n\\t\" + str(expval(ry(random_state, 2 * np.pi), pauli_z)) + \"\\n\")\n",
    "print(\"X after RY:\\n\\t\" + str(expval(ry(random_state, 2 * np.pi), pauli_x)) + \"\\n\")"
   ]
  },
  {
   "cell_type": "code",
   "execution_count": 6,
   "id": "b7af95ec",
   "metadata": {},
   "outputs": [],
   "source": [
    "def u1(state, phi):\n",
    "    return np.array([[1, 0], [0, np.exp(1j * phi)]]) @ state"
   ]
  },
  {
   "cell_type": "code",
   "execution_count": 7,
   "id": "a6e0f3e7",
   "metadata": {},
   "outputs": [
    {
     "name": "stdout",
     "output_type": "stream",
     "text": [
      "True\n"
     ]
    }
   ],
   "source": [
    "def rz(state, phi):\n",
    "    return np.array([[np.exp(-1j * phi / 2), 0], [0, np.exp(1j * phi / 2)]]) @ state\n",
    "\n",
    "\n",
    "def u2_direct(phi, l):\n",
    "    return (\n",
    "        1\n",
    "        / np.sqrt(2)\n",
    "        * np.array([[1, -np.exp(1j * l)], [np.exp(1j * phi), np.exp(1j * (phi + l))]])\n",
    "    )\n",
    "\n",
    "\n",
    "def u2_inferenced(phi, l):\n",
    "    return (\n",
    "        u1(np.eye(2), phi + l)\n",
    "        @ rz(np.eye(2), -l)\n",
    "        @ ry(np.eye(2), np.pi / 2)\n",
    "        @ rz(np.eye(2), l)\n",
    "    )\n",
    "\n",
    "print(np.allclose(u2_direct(np.pi / 6, np.pi / 3), u2_inferenced(np.pi / 6, np.pi / 3)))"
   ]
  },
  {
   "cell_type": "code",
   "execution_count": 8,
   "id": "917558fd",
   "metadata": {},
   "outputs": [
    {
     "name": "stdout",
     "output_type": "stream",
     "text": [
      "True\n",
      "False\n"
     ]
    }
   ],
   "source": [
    "print(np.allclose(u1(basis, np.pi / 6), basis))\n",
    "\n",
    "h = 1 / np.sqrt(2) * np.array([[1 + 0j, 1 + 0j], [1 + 0j, 0j - 1]])\n",
    "print(np.allclose(u1(h @ basis, np.pi / 6), h @ basis))"
   ]
  },
  {
   "cell_type": "code",
   "execution_count": 9,
   "id": "93d10645",
   "metadata": {},
   "outputs": [
    {
     "name": "stdout",
     "output_type": "stream",
     "text": [
      "[[1.+0.j 0.+0.j]\n",
      " [0.+0.j 1.+0.j]]\n"
     ]
    }
   ],
   "source": [
    "i = np.eye(2, dtype=np.complex128)\n",
    "print(i)"
   ]
  },
  {
   "cell_type": "code",
   "execution_count": 10,
   "id": "0b8063d4",
   "metadata": {},
   "outputs": [
    {
     "name": "stdout",
     "output_type": "stream",
     "text": [
      "True\n"
     ]
    }
   ],
   "source": [
    "print(np.allclose(np.kron(h @ basis, basis), np.kron(h, i) @ np.kron(basis, basis)))"
   ]
  },
  {
   "cell_type": "code",
   "execution_count": 11,
   "id": "3e6a487b",
   "metadata": {},
   "outputs": [
    {
     "name": "stdout",
     "output_type": "stream",
     "text": [
      "[[1.+0.j]]\n"
     ]
    }
   ],
   "source": [
    "print(np.kron(basis, basis).conj().T @ np.kron(pauli_z, pauli_z) @ np.kron(basis, basis))"
   ]
  },
  {
   "cell_type": "code",
   "execution_count": 12,
   "id": "5cdabfa3",
   "metadata": {},
   "outputs": [
    {
     "name": "stdout",
     "output_type": "stream",
     "text": [
      "True\n",
      "True\n"
     ]
    }
   ],
   "source": [
    "cnot = (1 + 0j) * np.array(\n",
    "    [\n",
    "        [1, 0, 0, 0],\n",
    "        [0, 1, 0, 0],\n",
    "        [0, 0, 0, 1],\n",
    "        [0, 0, 1, 0],\n",
    "    ]\n",
    ")\n",
    "\n",
    "print(np.allclose(cnot @ np.kron(basis, basis), np.kron(basis, basis)))\n",
    "print(np.allclose(\n",
    "    cnot @ np.kron(pauli_x @ basis, basis), np.kron(pauli_x @ basis, pauli_x @ basis)\n",
    "))"
   ]
  },
  {
   "cell_type": "code",
   "execution_count": 13,
   "id": "4cd7a614",
   "metadata": {},
   "outputs": [],
   "source": [
    "import pennylane as qml"
   ]
  },
  {
   "cell_type": "code",
   "execution_count": 14,
   "id": "2ba59633",
   "metadata": {},
   "outputs": [],
   "source": [
    "device = qml.device(\"default.qubit\", 2)"
   ]
  },
  {
   "cell_type": "code",
   "execution_count": 15,
   "id": "3eee2265",
   "metadata": {},
   "outputs": [
    {
     "name": "stdout",
     "output_type": "stream",
     "text": [
      "[[0.70710678+0.j]]\n"
     ]
    }
   ],
   "source": [
    "state = np.kron(basis, basis)\n",
    "op = np.kron(ry(np.eye(2), np.deg2rad(45)), np.eye(2, dtype=np.complex128))\n",
    "measure = np.kron(pauli_z, pauli_z)\n",
    "\n",
    "print((op @ state).conj().T @ measure @ (op @ state))"
   ]
  },
  {
   "cell_type": "code",
   "execution_count": 16,
   "id": "a9ba944a",
   "metadata": {},
   "outputs": [
    {
     "name": "stdout",
     "output_type": "stream",
     "text": [
      "0.7071067811865475\n"
     ]
    }
   ],
   "source": [
    "@qml.qnode(device)\n",
    "def test(angle):\n",
    "    qml.RY(angle, wires=0)\n",
    "    return qml.expval(qml.PauliZ(0) @ qml.PauliZ(1))\n",
    "\n",
    "\n",
    "print(test(np.deg2rad(45)))"
   ]
  }
 ],
 "metadata": {
  "jupytext": {
   "formats": "md:myst",
   "text_representation": {
    "extension": ".md",
    "format_name": "myst"
   }
  },
  "kernelspec": {
   "display_name": "Python 3",
   "language": "python",
   "name": "python3"
  },
  "language_info": {
   "codemirror_mode": {
    "name": "ipython",
    "version": 3
   },
   "file_extension": ".py",
   "mimetype": "text/x-python",
   "name": "python",
   "nbconvert_exporter": "python",
   "pygments_lexer": "ipython3",
   "version": "3.8.12"
  },
  "source_map": [
   11,
   86,
   94,
   98,
   100,
   104,
   112,
   123,
   125,
   129,
   137,
   180,
   183,
   201,
   223,
   240,
   245,
   258,
   261,
   309,
   311,
   326,
   328,
   356,
   370,
   431,
   433,
   439,
   441,
   451,
   457,
   461,
   469
  ]
 },
 "nbformat": 4,
 "nbformat_minor": 5
}