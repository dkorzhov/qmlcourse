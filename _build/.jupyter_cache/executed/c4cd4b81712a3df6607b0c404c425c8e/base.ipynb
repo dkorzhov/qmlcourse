{
 "cells": [
  {
   "cell_type": "code",
   "execution_count": 1,
   "id": "df4b275e",
   "metadata": {},
   "outputs": [
    {
     "name": "stdout",
     "output_type": "stream",
     "text": [
      "<class 'list'> <class 'list'>\n",
      "[] [15, 2.2, ['another_list', False]]\n"
     ]
    }
   ],
   "source": [
    "# разные способы объявления списков\n",
    "first_list = []\n",
    "second_list = list()\n",
    "third_list = list([1,2, \"stroka\", 3.14])\n",
    "fourth_lust = [15, 2.2, [\"another_list\", False]]\n",
    "\n",
    "print(type(second_list), type(fourth_lust))\n",
    "print(first_list, fourth_lust)"
   ]
  },
  {
   "cell_type": "code",
   "execution_count": 2,
   "id": "ca3d085b",
   "metadata": {},
   "outputs": [
    {
     "name": "stdout",
     "output_type": "stream",
     "text": [
      "math_journal = [3, 3, 5, 4, 5, 2, 3, 4, 5, 5]\n",
      "avg_grade = 3.9\n"
     ]
    }
   ],
   "source": [
    "# базовый журнал с тремя оценками\n",
    "math_journal = [3, 3, 5]\n",
    "\n",
    "# добавим новопришедших студентов\n",
    "math_journal.append(4)\n",
    "math_journal.append(5)\n",
    "\n",
    "# и сразу большую группу новых студентов\n",
    "math_journal.extend([2,3,4,5,5])\n",
    "\n",
    "print(f\"{math_journal = }\")\n",
    "\n",
    "# найдем среднюю оценку как сумму всех оценок, деленную на их количество\n",
    "avg_grade = sum(math_journal) / len(math_journal)\n",
    "print(f\"{avg_grade = }\")"
   ]
  },
  {
   "cell_type": "code",
   "execution_count": 3,
   "id": "186b9875",
   "metadata": {},
   "outputs": [
    {
     "name": "stdout",
     "output_type": "stream",
     "text": [
      "4\n"
     ]
    }
   ],
   "source": [
    "# базовый журнал с пятью оценками\n",
    "math_journal = [1, 2, 3, 4, 5]\n",
    "\n",
    "third_student_grade = math_journal[3]\n",
    "print(third_student_grade)"
   ]
  },
  {
   "cell_type": "code",
   "execution_count": 4,
   "id": "fdc83fb5",
   "metadata": {},
   "outputs": [
    {
     "name": "stdout",
     "output_type": "stream",
     "text": [
      "Последняя оценка: 5\n",
      "Предпоследняя оценка: 4\n",
      "Последний студент сдал очень хорошо, на его фоне предпоследний просто двоечник!\n"
     ]
    }
   ],
   "source": [
    "# базовый журнал с пятью оценками\n",
    "math_journal = [1, 2, 3, 4, 5]\n",
    "\n",
    "# возьмем последнюю оценку\n",
    "last_grade = math_journal[-1]\n",
    "print(f\"Последняя оценка: {last_grade}\")\n",
    "\n",
    "# а теперь -- предпоследнюю\n",
    "prev = math_journal[-2]\n",
    "print(f\"Предпоследняя оценка: {prev}\")\n",
    "\n",
    "# конечно, взятие по индексам можно использовать в ранее разобранном синтаксисе\n",
    "\n",
    "if math_journal[-1] < math_journal[-2]:\n",
    "    math_journal[-1] += 1\n",
    "    print(\"Последняя оценка меньше предпоследней. Натянем студенту?\")\n",
    "else:\n",
    "    math_journal[-2] = 2\n",
    "    print(\"Последний студент сдал очень хорошо, на его фоне предпоследний просто двоечник!\")"
   ]
  },
  {
   "cell_type": "code",
   "execution_count": 5,
   "id": "1cbf4995",
   "metadata": {},
   "outputs": [
    {
     "name": "stdout",
     "output_type": "stream",
     "text": [
      "first_3_grades = [1, 2, 3]\n",
      "last_2_grades = [4, 5]\n",
      "some_slice = [2, 3, 4, 5]\n",
      "Верно ли, что единица входит в some_slice? {1 in some_slice}\n",
      "Верно ли, что единица входит в yet_another_slice? {1 in yet_another_slice}\n"
     ]
    }
   ],
   "source": [
    "# базовый журнал с пятью оценками\n",
    "math_journal = [1, 2, 3, 4, 5]\n",
    "\n",
    "# как взять первые 3 оценки?\n",
    "first_3_grades = math_journal[:3]\n",
    "print(f\"{first_3_grades = }\")\n",
    "\n",
    "# как взять последние две оценки?\n",
    "last_2_grades = math_journal[-2:]\n",
    "print(f\"{last_2_grades = }\")\n",
    "\n",
    "# сделаем срез на 4 оценки, начиная со второй (с индексом 1)\n",
    "start_index = 1\n",
    "some_slice = math_journal[start_index : start_index + 4]\n",
    "print(f\"{some_slice = }\")\n",
    "\n",
    "# возьмем столько объектов из начала, сколько объектов в some_slice\n",
    "yet_another_slice = math_journal[:len(some_slice)]\n",
    "\n",
    "# а вот так можно проверить, попадает ли объект в список\n",
    "print(\"Верно ли, что единица входит в some_slice? {1 in some_slice}\")\n",
    "print(\"Верно ли, что единица входит в yet_another_slice? {1 in yet_another_slice}\")"
   ]
  },
  {
   "cell_type": "code",
   "execution_count": 6,
   "id": "95436c05",
   "metadata": {},
   "outputs": [
    {
     "name": "stdout",
     "output_type": "stream",
     "text": [
      "Всего хорошистов и отличников по математике 2 человека\n"
     ]
    }
   ],
   "source": [
    "math_journal = [3, 4, 5]\n",
    "counter = 0\n",
    "\n",
    "for cur_grade in math_journal:\n",
    "    if cur_grade >= 4:\n",
    "        counter += 1\n",
    "\n",
    "print(f\"Всего хорошистов и отличников по математике {counter} человека\")"
   ]
  },
  {
   "cell_type": "code",
   "execution_count": 7,
   "id": "fe89c41d",
   "metadata": {},
   "outputs": [
    {
     "name": "stdout",
     "output_type": "stream",
     "text": [
      "Всего хорошистов и отличников по математике 2 человека\n"
     ]
    }
   ],
   "source": [
    "math_journal = [3, 4, 5]\n",
    "counter = 0\n",
    "\n",
    "cur_grade = math_journal[0]\n",
    "if cur_grade >= 4:\n",
    "    counter += 1\n",
    "\n",
    "# не забываем менять индекс с 0 на 1, так как каждый раз берется следующий элемент\n",
    "cur_grade = math_journal[1]\n",
    "if cur_grade >= 4:\n",
    "    counter += 1\n",
    "\n",
    "# и с единицы на двойку\n",
    "cur_grade = math_journal[2]\n",
    "if cur_grade >= 4:\n",
    "    counter += 1\n",
    "\n",
    "print(f\"Всего хорошистов и отличников по математике {counter} человека\")"
   ]
  },
  {
   "cell_type": "code",
   "execution_count": 8,
   "id": "e1cfb9c7",
   "metadata": {},
   "outputs": [
    {
     "name": "stdout",
     "output_type": "stream",
     "text": [
      "Преуспевающие по математике студенты находятся на позициях: [0, 2, 3, 4, 7]\n"
     ]
    }
   ],
   "source": [
    "math_journal = [4, 3, 4, 5, 5, 2, 3, 4]\n",
    "good_student_indexes = []\n",
    "\n",
    "for student_index in range(len(math_journal)):\n",
    "    curent_student_grade = math_journal[student_index]\n",
    "    if curent_student_grade >= 4:\n",
    "        good_student_indexes.append(student_index)\n",
    "\n",
    "print(f\"Преуспевающие по математике студенты находятся на позициях: {good_student_indexes}\")"
   ]
  },
  {
   "cell_type": "code",
   "execution_count": 9,
   "id": "9ac176fb",
   "metadata": {},
   "outputs": [
    {
     "name": "stdout",
     "output_type": "stream",
     "text": [
      "['1', '4', '6', '8']\n"
     ]
    }
   ],
   "source": [
    "# грубый вариант\n",
    "inp_list = [1,4,6,8]\n",
    "out_list = []\n",
    "\n",
    "for item in inp_list:\n",
    "    out_list.append(str(item))\n",
    "\n",
    "# list comprehension\n",
    "out_list = [str(item) for item in inp_list]\n",
    "print(out_list)"
   ]
  }
 ],
 "metadata": {
  "jupytext": {
   "formats": "md:myst",
   "text_representation": {
    "extension": ".md",
    "format_name": "myst"
   }
  },
  "kernelspec": {
   "display_name": "Python 3",
   "language": "python",
   "name": "python3"
  },
  "language_info": {
   "codemirror_mode": {
    "name": "ipython",
    "version": 3
   },
   "file_extension": ".py",
   "mimetype": "text/x-python",
   "name": "python",
   "nbconvert_exporter": "python",
   "pygments_lexer": "ipython3",
   "version": "3.8.12"
  },
  "source_map": [
   11,
   39,
   48,
   58,
   74,
   95,
   101,
   118,
   138,
   145,
   168,
   201,
   212,
   231,
   237,
   247,
   256,
   267
  ]
 },
 "nbformat": 4,
 "nbformat_minor": 5
}