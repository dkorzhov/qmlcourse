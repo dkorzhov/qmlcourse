{
 "cells": [
  {
   "cell_type": "code",
   "execution_count": 1,
   "id": "dc064fbd",
   "metadata": {},
   "outputs": [],
   "source": [
    "c = 299_792_458 # запишем константу, м/с\n",
    "m = 0.5 # масса некоторого абстрактного объекта, кг\n",
    "E = m * (c ** 2) # вычисляем энергию, Дж\n",
    "\n",
    "some_variable_1 = 10.2 # какая-то другая переменная\n",
    "m = 12"
   ]
  },
  {
   "cell_type": "code",
   "execution_count": 2,
   "id": "3b01029d",
   "metadata": {},
   "outputs": [
    {
     "name": "stdout",
     "output_type": "stream",
     "text": [
      "<class 'int'>\n",
      "<class 'float'>\n",
      "12.9 12 12.0\n"
     ]
    }
   ],
   "source": [
    "first_variable = 10\n",
    "second_variable = 10.0\n",
    "\n",
    "# запишем в переменные значения типов данных\n",
    "type_of_first_variable = type(first_variable)\n",
    "type_of_second_variable = type(second_variable)\n",
    "\n",
    "# и распечатаем сами типы, чтобы посмотреть глазами и сравнить\n",
    "print(type_of_first_variable)\n",
    "print(type_of_second_variable)\n",
    "\n",
    "# перезапишем переменные\n",
    "first_variable = 12.9\n",
    "second_variable = int(first_variable)\n",
    "third_variable = float(second_variable)\n",
    "\n",
    "# в print() можно передавать несколько переменных\n",
    "print(first_variable, second_variable, third_variable)"
   ]
  },
  {
   "cell_type": "code",
   "execution_count": 3,
   "id": "28f7c8c6",
   "metadata": {},
   "outputs": [
    {
     "name": "stdout",
     "output_type": "stream",
     "text": [
      "<class 'float'>\n",
      "<class 'int'>\n",
      "1.0\n",
      "1.0\n",
      "1.0\n",
      "3.0\n"
     ]
    }
   ],
   "source": [
    "a = 3\n",
    "b = 12.1\n",
    "\n",
    "c = a + b\n",
    "\n",
    "# можно объединять вызовы функций print и type\n",
    "# без создания лишней переменной\n",
    "print(type(c))\n",
    "\n",
    "# и даже трёх функций, включая приведение типа\n",
    "print(type(int(c)))\n",
    "\n",
    "# деление числа на само себя даёт единицу, но..\n",
    "print(a / a)\n",
    "print(b / b)\n",
    "print(c / c)\n",
    "print(12 / 4)"
   ]
  },
  {
   "cell_type": "code",
   "execution_count": 4,
   "id": "ab2db7f6",
   "metadata": {},
   "outputs": [
    {
     "name": "stdout",
     "output_type": "stream",
     "text": [
      "5 <class 'int'>\n",
      "6 <class 'int'>\n",
      "9 <class 'int'>\n"
     ]
    }
   ],
   "source": [
    "a = 3\n",
    "b = 2\n",
    "\n",
    "print(a + b, type(a + b))\n",
    "print(a * b, type(a * b))\n",
    "print(a ** b, type(a ** b))"
   ]
  },
  {
   "cell_type": "code",
   "execution_count": 5,
   "id": "02a2e132",
   "metadata": {},
   "outputs": [
    {
     "name": "stdout",
     "output_type": "stream",
     "text": [
      "5 <class 'int'>\n",
      "6 <class 'int'>\n",
      "9 <class 'int'>\n"
     ]
    }
   ],
   "source": [
    "a=            3\n",
    "b    =2\n",
    "\n",
    "print(a +b, type(a+ b))\n",
    "print(a     * b, type(a *b))\n",
    "print(a**b, type(a        ** b))"
   ]
  },
  {
   "cell_type": "code",
   "execution_count": 6,
   "id": "0194832a",
   "metadata": {},
   "outputs": [
    {
     "name": "stdout",
     "output_type": "stream",
     "text": [
      "Вася, впиши сюда что-нибудь перед публикацией курса!\n"
     ]
    }
   ],
   "source": [
    "text_variable = 'тут что-то написано'\n",
    "another_text_variable = \"Вася, впиши сюда что-нибудь перед публикацией курса!\"\n",
    "\n",
    "long_text = '''\n",
    "Lorem ipsum dolor sit amet, consectetur adipiscing elit, sed do eiusmod tempor incididunt ut\n",
    "labore et dolore magna aliqua. Ut enim ad minim veniam, quis nostrud exercitation ullamco laboris\n",
    "nisi ut aliquip ex ea commodo consequat. Duis aute irure dolor in reprehenderit in voluptate velit\n",
    "esse cillum dolore eu fugiat nulla pariatur. Excepteur sint occaecat cupidatat non proident, sunt\n",
    "in culpa qui officia deserunt mollit anim id est laborum.\n",
    "'''\n",
    "\n",
    "print(another_text_variable)"
   ]
  },
  {
   "cell_type": "code",
   "execution_count": 7,
   "id": "ebab957e",
   "metadata": {},
   "outputs": [
    {
     "name": "stdout",
     "output_type": "stream",
     "text": [
      "Chillin' kid\n",
      "И тут он мне говорит: \"у тебя нет ног!\"\n"
     ]
    }
   ],
   "source": [
    "error_string = \"Chillin' kid\"\n",
    "another_error_string = 'И тут он мне говорит: \"у тебя нет ног!\"'\n",
    "\n",
    "print(error_string)\n",
    "print(another_error_string)"
   ]
  },
  {
   "cell_type": "code",
   "execution_count": 8,
   "id": "05a161aa",
   "metadata": {},
   "outputs": [
    {
     "name": "stdout",
     "output_type": "stream",
     "text": [
      "Результат вычислений:  24 . Это не так много!\n",
      "Результат вычислений: 24. Это не так много!\n"
     ]
    }
   ],
   "source": [
    "first_string = 'Результат вычислений: '\n",
    "second_string = \". Это не так много!\"\n",
    "\n",
    "a = 12\n",
    "b = 2\n",
    "result = a * b\n",
    "\n",
    "# два способа вывода:\n",
    "print(first_string, result, second_string)\n",
    "\n",
    "# либо через склейку строк вручную\n",
    "# обратите внимание на приведение типа int к str\n",
    "result_string = first_string + str(result) + second_string\n",
    "print(result_string)"
   ]
  },
  {
   "cell_type": "code",
   "execution_count": 9,
   "id": "f80835e7",
   "metadata": {},
   "outputs": [
    {
     "name": "stdout",
     "output_type": "stream",
     "text": [
      "Результат вычислений: 24. Это не так много!\n",
      "Результат вычислений: {result}. Это не так много!\n"
     ]
    }
   ],
   "source": [
    "a = 12\n",
    "b = 2\n",
    "result = a * b\n",
    "\n",
    "result_string = f'Результат вычислений: {result}. Это не так много!'\n",
    "\n",
    "# и без f\n",
    "wrong_result_string = 'Результат вычислений: {result}. Это не так много!'\n",
    "\n",
    "print(result_string)\n",
    "print(wrong_result_string)"
   ]
  },
  {
   "cell_type": "code",
   "execution_count": 10,
   "id": "b321c54f",
   "metadata": {},
   "outputs": [
    {
     "name": "stdout",
     "output_type": "stream",
     "text": [
      "В точке с координатами X=12.1, Y=0, Z=13 значение функции равно 0.0. Состояние системы указано на момент  времени t=30.113412\n"
     ]
    }
   ],
   "source": [
    "# так тоже можно!\n",
    "x, y, z = 12.1, 0, 13\n",
    "# скобки, как и в математике, задают порядок выполнения вычислений\n",
    "func_val = (x * y) ** z\n",
    "\n",
    "current_time = 30.113412\n",
    "\n",
    "# а вот так можно писать длинные f-строки (но работает и для обычных)\n",
    "out_string = (f'В точке с координатами X={x}, Y={y}, Z={z} значение функции '\n",
    "              f'равно {func_val}. Состояние системы указано на момент '\n",
    "              ' времени t=' + str(current_time))\n",
    "\n",
    "print(out_string)"
   ]
  }
 ],
 "metadata": {
  "jupytext": {
   "formats": "md:myst",
   "text_representation": {
    "extension": ".md",
    "format_name": "myst"
   }
  },
  "kernelspec": {
   "display_name": "Python 3",
   "language": "python",
   "name": "python3"
  },
  "language_info": {
   "codemirror_mode": {
    "name": "ipython",
    "version": 3
   },
   "file_extension": ".py",
   "mimetype": "text/x-python",
   "name": "python",
   "nbconvert_exporter": "python",
   "pygments_lexer": "ipython3",
   "version": "3.7.12"
  },
  "source_map": [
   11,
   32,
   39,
   70,
   89,
   97,
   115,
   124,
   131,
   139,
   146,
   152,
   165,
   179,
   185,
   191,
   206,
   221,
   233,
   239,
   253
  ]
 },
 "nbformat": 4,
 "nbformat_minor": 5
}