{
 "cells": [
  {
   "cell_type": "code",
   "execution_count": 1,
   "id": "dba6e6d8",
   "metadata": {},
   "outputs": [
    {
     "name": "stdout",
     "output_type": "stream",
     "text": [
      "Метод append имеет тип <built-in method append of list object at 0x7fbb5496f500>\n",
      "Значение атрибута: Built-in mutable sequence.\n",
      "\n",
      "If no argument is given, the constructor creates a new empty list.\n",
      "The argument must be an iterable if specified.\n"
     ]
    }
   ],
   "source": [
    "example_list = list([\"что-то\", \"с\"])\n",
    "print(f\"Метод append имеет тип {example_list.append}\")\n",
    "\n",
    "# вот так можно вызвать метод, изменяя сам экземпляр класса\n",
    "example_list.append(\"чем-то\")\n",
    "\n",
    "# а вот так можно обратиться к атрибуту конкретного объекта\n",
    "attr_value = example_list.__doc__\n",
    "print(f\"Значение атрибута: {attr_value}\")"
   ]
  },
  {
   "cell_type": "code",
   "execution_count": 2,
   "id": "7e3c4b69",
   "metadata": {},
   "outputs": [
    {
     "name": "stdout",
     "output_type": "stream",
     "text": [
      "a = 3, b = 4\n"
     ]
    }
   ],
   "source": [
    "# создадим два объекта класса int\n",
    "a = 3\n",
    "b = int(4)\n",
    "\n",
    "# неявно вызовем метод сложения\n",
    "a + b\n",
    "# проверим, что содержимое объектов не изменилось\n",
    "print(f\"{a = }, {b = }\")"
   ]
  },
  {
   "cell_type": "code",
   "execution_count": 3,
   "id": "31da14c8",
   "metadata": {},
   "outputs": [
    {
     "name": "stdout",
     "output_type": "stream",
     "text": [
      "example_list.content = ['что-то', 'с']\n",
      "example_list.content = ['что-то', 'с', 'чем-то']\n",
      "type(example_list) = <class '__main__.List'>\n",
      "После простого сложения: a.value = 3, b.value = 4\n",
      "После записи в переменную результата: c.value = 7\n"
     ]
    }
   ],
   "source": [
    "# определим классы\n",
    "class List:\n",
    "    def __init__(self, initial_content = None):\n",
    "        # указывать в виде значения по умолчанию mutable-объекты неправильно\n",
    "        if initial_content is None:\n",
    "            initial_content = []\n",
    "        self.content = initial_content\n",
    "\n",
    "    def append(self, new_element):\n",
    "        # изменение производится inplace, с заменой собственного контента\n",
    "        self.content = self.content + [new_element]\n",
    "\n",
    "class Int:\n",
    "    def __init__(self, value):\n",
    "        self.value = value\n",
    "\n",
    "    def add(self, second_value):\n",
    "        # изменение не производится, создается новый объект и он же возвращается\n",
    "        return Int(self.value + second_value.value)\n",
    "\n",
    "# воспроизведем примеры кода выше для List\n",
    "example_list = List([\"что-то\", \"с\"])\n",
    "print(f\"{example_list.content = }\")\n",
    "\n",
    "example_list.append(\"чем-то\")\n",
    "print(f\"{example_list.content = }\")\n",
    "print(f\"{type(example_list) = }\")\n",
    "\n",
    "# и для Int\n",
    "a = Int(3)\n",
    "b = Int(4)\n",
    "\n",
    "a.add(b)\n",
    "print(f\"После простого сложения: {a.value = }, {b.value = }\")\n",
    "\n",
    "c = a.add(b)\n",
    "print(f\"После записи в переменную результата: {c.value = }\")"
   ]
  },
  {
   "cell_type": "code",
   "execution_count": 4,
   "id": "9e649d01",
   "metadata": {},
   "outputs": [
    {
     "name": "stdout",
     "output_type": "stream",
     "text": [
      "7\n"
     ]
    }
   ],
   "source": [
    "# вызываем метод класса - не объекта! - и передаем первым аргументом объект,\n",
    "# который при обычных обстоятельствах будет записан в self\n",
    "result = Int.add(Int(3), Int(4))\n",
    "print(f\"{result.value}\")"
   ]
  },
  {
   "cell_type": "code",
   "execution_count": 5,
   "id": "92b4ae9d",
   "metadata": {},
   "outputs": [
    {
     "name": "stdout",
     "output_type": "stream",
     "text": [
      "Состояние системы на итерации 1: [9.64, 28.92, 40.00600000000001, 0.0].\tВсего объектов: 5\tСуммарная энергия объектов: 10\n",
      "Состояние системы на итерации 2: [-340.36, -321.08, -309.994, -350.0].\tВсего объектов: 4\tСуммарная энергия объектов: -72.56\n",
      "Состояние системы на итерации 3: [-340.36, -321.08, -309.994, -350.0].\tВсего объектов: 3\tСуммарная энергия объектов: -114.84\n"
     ]
    }
   ],
   "source": [
    "# класс системы, с ее параметрами и состоянием\n",
    "class System:\n",
    "    def __init__(self, param_vector, alpha, gamma, multiplier = 2.0, energy = 0.0):\n",
    "        self.param_vector = param_vector\n",
    "        self.alpha = alpha\n",
    "        self.gamma = gamma\n",
    "        self.multiplier = multiplier\n",
    "        self.energy = energy\n",
    "\n",
    "        # начальное состояние\n",
    "        self.system_state = [\n",
    "            (alpha - gamma) * multiplier * param\n",
    "            for param\n",
    "            in self.param_vector\n",
    "        ]\n",
    "\n",
    "    def first_action(self, object):\n",
    "        # взаимодействие с одним объектом: увеличение энергии, изменение состояния системы\n",
    "        self.gamma -= object.energy\n",
    "        self.energy += object.energy\n",
    "        self.system_state = [param - self.alpha * self.energy for param in self.system_state]\n",
    "\n",
    "    def second_action(self, list_of_object):\n",
    "        # взаимодействие с несколькими объектами - увеличение их энергии\n",
    "        for obj in list_of_object:\n",
    "            obj.energy += self.gamma * self.multiplier\n",
    "\n",
    "class Object:\n",
    "    def __init__(self, energy = 10.0):\n",
    "        # объект хранит только один атрибут\n",
    "        self.energy = energy\n",
    "\n",
    "# симуляция одного цикла в системе\n",
    "def one_system_cycle(system: System, objects = None):\n",
    "    if objects is not None:\n",
    "        system.second_action(objects)\n",
    "        # убираем один последний объект\n",
    "        objects = objects[:-1]\n",
    "    else:\n",
    "        objects = [Object(val) for val in range(5)]\n",
    "        for obj in objects:\n",
    "            system.first_action(obj)\n",
    "    return objects\n",
    "\n",
    "params = [1.0, 3.0, 4.15, 0.0]\n",
    "alpha = 5\n",
    "gamma = 0.18\n",
    "system = System(params, alpha, gamma, energy = 10)\n",
    "\n",
    "# изначально объектов нет, они появятся после первого цикла\n",
    "objects = None\n",
    "\n",
    "for cycle_num in range(1, 4):\n",
    "    print(f\"Состояние системы на итерации {cycle_num}: {system.system_state}.\", end=\"\\t\")\n",
    "    objects = one_system_cycle(system, objects)\n",
    "    print(f\"Всего объектов: {len(objects)}\", end=\"\\t\")\n",
    "\n",
    "    total_object_energy = sum([obj.energy for obj in objects])\n",
    "    print(f\"Суммарная энергия объектов: {total_object_energy}\")"
   ]
  }
 ],
 "metadata": {
  "jupytext": {
   "formats": "md:myst",
   "text_representation": {
    "extension": ".md",
    "format_name": "myst"
   }
  },
  "kernelspec": {
   "display_name": "Python 3",
   "language": "python",
   "name": "python3"
  },
  "language_info": {
   "codemirror_mode": {
    "name": "ipython",
    "version": 3
   },
   "file_extension": ".py",
   "mimetype": "text/x-python",
   "name": "python",
   "nbconvert_exporter": "python",
   "pygments_lexer": "ipython3",
   "version": "3.8.12"
  },
  "source_map": [
   11,
   43,
   53,
   57,
   66,
   81,
   119,
   130,
   135,
   154,
   214
  ]
 },
 "nbformat": 4,
 "nbformat_minor": 5
}