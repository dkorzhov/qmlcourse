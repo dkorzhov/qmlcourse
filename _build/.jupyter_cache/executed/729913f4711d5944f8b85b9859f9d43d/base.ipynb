{
 "cells": [
  {
   "cell_type": "code",
   "execution_count": 1,
   "id": "b2540c08",
   "metadata": {},
   "outputs": [],
   "source": [
    "import pennylane as qml\n",
    "from pennylane import numpy as np\n",
    "\n",
    "dev = qml.device('default.qubit', shots=1, wires=2)"
   ]
  },
  {
   "cell_type": "code",
   "execution_count": 2,
   "id": "9ff35c76",
   "metadata": {},
   "outputs": [],
   "source": [
    "def f1():\n",
    "    pass\n",
    "\n",
    "def f2():\n",
    "    qml.PauliX(wires=[1])\n",
    "\n",
    "def f3():\n",
    "    qml.CNOT(wires=[0, 1])\n",
    "\n",
    "def f4():\n",
    "    qml.PauliX(wires=0)\n",
    "    qml.CNOT(wires=[0, 1])\n",
    "    qml.PauliX(wires=0)"
   ]
  },
  {
   "cell_type": "code",
   "execution_count": 3,
   "id": "fb45dc03",
   "metadata": {},
   "outputs": [],
   "source": [
    "black_boxes_dict = {'f1': f1, 'f2': f2, 'f3': f3, 'f4': f4}"
   ]
  },
  {
   "cell_type": "code",
   "execution_count": 4,
   "id": "6cbb47e2",
   "metadata": {},
   "outputs": [],
   "source": [
    "def random_black_box():\n",
    "    black_boxes = ['f1', 'f2', 'f3', 'f4']\n",
    "    n = np.random.randint(0, 4)\n",
    "    return black_boxes[n]"
   ]
  },
  {
   "cell_type": "code",
   "execution_count": 5,
   "id": "98596c70",
   "metadata": {},
   "outputs": [],
   "source": [
    "@qml.qnode(dev)\n",
    "def circuit(black_boxe_name):\n",
    "    qml.Hadamard(wires=0)\n",
    "    qml.PauliX(wires=1)\n",
    "    qml.Hadamard(wires=1)\n",
    "    black_boxes_dict[black_box_name]()\n",
    "    qml.Hadamard(wires=0)\n",
    "    return qml.sample(qml.PauliZ([0]))"
   ]
  },
  {
   "cell_type": "code",
   "execution_count": 6,
   "id": "b222772b",
   "metadata": {},
   "outputs": [],
   "source": [
    "black_box_name = random_black_box()"
   ]
  },
  {
   "cell_type": "code",
   "execution_count": 7,
   "id": "959da7bc",
   "metadata": {},
   "outputs": [
    {
     "name": "stdout",
     "output_type": "stream",
     "text": [
      "1\n"
     ]
    }
   ],
   "source": [
    "result = circuit(black_box_name)\n",
    "print(result)"
   ]
  },
  {
   "cell_type": "code",
   "execution_count": 8,
   "id": "fe8fde7a",
   "metadata": {},
   "outputs": [
    {
     "name": "stdout",
     "output_type": "stream",
     "text": [
      "f2\n"
     ]
    }
   ],
   "source": [
    "print(black_box_name)"
   ]
  },
  {
   "cell_type": "code",
   "execution_count": 9,
   "id": "adb5d4b1",
   "metadata": {},
   "outputs": [
    {
     "name": "stdout",
     "output_type": "stream",
     "text": [
      " 0: ──H──H─────┤ Sample[Z] \n",
      " 1: ──X──H──X──┤           \n",
      "\n"
     ]
    }
   ],
   "source": [
    "print(circuit.draw())"
   ]
  }
 ],
 "metadata": {
  "jupytext": {
   "formats": "md:myst",
   "text_representation": {
    "extension": ".md",
    "format_name": "myst"
   }
  },
  "kernelspec": {
   "display_name": "Python 3",
   "language": "python",
   "name": "python3"
  },
  "language_info": {
   "codemirror_mode": {
    "name": "ipython",
    "version": 3
   },
   "file_extension": ".py",
   "mimetype": "text/x-python",
   "name": "python",
   "nbconvert_exporter": "python",
   "pygments_lexer": "ipython3",
   "version": "3.8.12"
  },
  "source_map": [
   11,
   198,
   203,
   207,
   221,
   225,
   227,
   231,
   236,
   240,
   249,
   253,
   255,
   259,
   262,
   266,
   268,
   272,
   274
  ]
 },
 "nbformat": 4,
 "nbformat_minor": 5
}